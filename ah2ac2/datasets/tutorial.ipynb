{
 "cells": [
  {
   "metadata": {},
   "cell_type": "markdown",
   "source": "# Data Exploration & Analysis",
   "id": "dc3e40998b91e77d"
  },
  {
   "cell_type": "code",
   "id": "initial_id",
   "metadata": {
    "collapsed": true
   },
   "source": [
    "import os\n",
    "import numpy as np\n",
    "import jax\n",
    "from jaxmarl import make\n",
    "\n",
    "from safetensors.numpy import load_file\n",
    "from ah2ac2.datasets.dataloader import HanabiLiveGamesDataloader"
   ],
   "outputs": [],
   "execution_count": null
  },
  {
   "metadata": {},
   "cell_type": "code",
   "source": [
    "directory_path = './data'\n",
    "\n",
    "restored_games = []\n",
    "restored_games_names = []\n",
    "for filename in os.listdir(directory_path):\n",
    "    if not filename.endswith(\".safetensors\"):\n",
    "        continue\n",
    "\n",
    "    file_path = os.path.join(directory_path, filename)\n",
    "    if os.path.isdir(file_path):\n",
    "        continue\n",
    "\n",
    "    loaded_tensors = load_file(file_path)\n",
    "    restored_games.append(loaded_tensors)\n",
    "    restored_games_names.append(filename) "
   ],
   "id": "5f8a0265e1eb4b08",
   "outputs": [],
   "execution_count": null
  },
  {
   "metadata": {},
   "cell_type": "code",
   "source": [
    "from ah2ac2.datasets.dataset import HanabiLiveGamesDataset\n",
    "for restored_game, n in zip(restored_games, restored_games_names):\n",
    "    print(\"###########################################\")\n",
    "    print(n)\n",
    "    print(f'Players: {restored_game[\"num_players\"]}')\n",
    "    print(f'Games: {len(restored_game[\"game_ids\"])}')\n",
    "    \n",
    "    print(\"Scores:\")\n",
    "    scores = restored_game[\"scores\"]\n",
    "    print(f'Min={scores.min()} | Max={scores.max()} | Avg={scores.mean()} | Median={np.median(scores)} | Std={scores.std()}')\n",
    "    \n",
    "    print(\"Game Lengths:\")\n",
    "    game_lengths = restored_game[\"num_actions\"]\n",
    "    print(f'Min={game_lengths.min()} | Max={game_lengths.max()} | Avg={game_lengths.mean()} | Median={np.median(game_lengths)} | Std={game_lengths.std()}')\n",
    "    print(\"###########################################\\n\")"
   ],
   "id": "f0a08453b3428494",
   "outputs": [],
   "execution_count": null
  },
  {
   "metadata": {},
   "cell_type": "markdown",
   "source": [
    "# Dataset & Dataloader\n",
    "\n",
    "We provide implementation for loading the data into a dataset so the game data can be conveniently accessed. Additionally, we provide the data loader that can be used for training the models."
   ],
   "id": "73324bd02252706d"
  },
  {
   "metadata": {},
   "cell_type": "code",
   "source": [
    "train_dataset_path = './data/2_player_games_train_1k.safetensors'\n",
    "val_dataset_path = './data/2_player_games_val.safetensors'\n",
    "\n",
    "train_dataset = HanabiLiveGamesDataset(\n",
    "    file=train_dataset_path,\n",
    "    color_shuffle_key=jax.random.PRNGKey(0),  # Using color permutations - just pass the key!\n",
    ")\n",
    "val_dataset = HanabiLiveGamesDataset(file=val_dataset_path)\n",
    "\n",
    "# You can access info about the individual game like this:\n",
    "first_game = train_dataset[0]\n",
    "game_attributes = [\n",
    "    attr for attr \n",
    "    in dir(first_game)\n",
    "    if not attr.startswith('__') and not attr.startswith('_')\n",
    "]\n",
    "print(f\"Game Attributes: {game_attributes}\")\n",
    "# How many games are in the dataset?\n",
    "print(f\"Total Number of Games in the 2-Player Train Dataset: {len(train_dataset)}\")\n",
    "print(f\"Total Number of Games in the 2-Player Val Dataset: {len(val_dataset)}\")"
   ],
   "id": "5adc6516216655ed",
   "outputs": [],
   "execution_count": null
  },
  {
   "metadata": {},
   "cell_type": "markdown",
   "source": "We provide dataloader that supports iteration over batches and shuffling when loading the games. The demo on how to use the dataloader is provided in the cell below. For shuffling the dataset, just pass the key - you will have reproducible and deterministic data loading process.  ",
   "id": "a401e7acdec06cb4"
  },
  {
   "metadata": {},
   "cell_type": "code",
   "source": [
    "from typing import NamedTuple\n",
    "from jaxmarl.environments.hanabi import hanabi_game\n",
    "import chex\n",
    "import jax.numpy as jnp\n",
    "from jaxmarl.environments.hanabi.hanabi import HanabiEnv\n",
    "\n",
    "rng, _rng = jax.random.split(jax.random.PRNGKey(0))\n",
    "\n",
    "batch_size = 8\n",
    "train_loader = HanabiLiveGamesDataloader(\n",
    "    dataset=train_dataset, \n",
    "    batch_size=batch_size, \n",
    "    shuffle_key=_rng\n",
    ")\n",
    "\n",
    "# If you don't pass the batch size, you will get all the games at once when iterating\n",
    "val_loader = HanabiLiveGamesDataloader(val_dataset)\n"
   ],
   "id": "8553840bc229da98",
   "outputs": [],
   "execution_count": null
  },
  {
   "metadata": {},
   "cell_type": "markdown",
   "source": "In the next cell we show how to unroll the games in JaxMARL using vmap. Additionally, you can check out `bc.py` where we show the entire training loop for a BC policy.",
   "id": "4bf9d5ed33f4db3c"
  },
  {
   "metadata": {},
   "cell_type": "code",
   "source": [
    "class Transition(NamedTuple):\n",
    "    current_timestep: int  # We know there is `turn` in env_state, but game might reset!\n",
    "    env_state: hanabi_game.State  # Current state of the environment.\n",
    "    reached_terminal: jnp.bool_\n",
    "\n",
    "def batchify(x, agent_list):\n",
    "    x = jnp.stack([x[a] for a in agent_list])\n",
    "    return x.reshape((len(agent_list), -1))\n",
    "\n",
    "def make_play(num_players):\n",
    "    env: HanabiEnv = make(\"hanabi\", num_agents=int(num_players))\n",
    "\n",
    "    def play(\n",
    "        rng: chex.PRNGKey,\n",
    "        deck: chex.Array,\n",
    "        actions: chex.Array,\n",
    "    ):\n",
    "        # Initialize the environment.\n",
    "        _, initial_env_state = env.reset_from_deck_of_pairs(deck)\n",
    "\n",
    "        def _step(transition: Transition, step_actions: jax.Array):\n",
    "            # Unbatchify actions\n",
    "            env_act = {a: step_actions[i] for i, a in enumerate(env.agents)}\n",
    "\n",
    "            # Step the environment with selected actions.\n",
    "            new_obs, new_env_state, reward, dones, infos = env.step_env(\n",
    "                rng,  # NOTE: This is not really important, not stochastic.\n",
    "                transition.env_state,\n",
    "                env_act,\n",
    "            )\n",
    "\n",
    "            is_episode_end = jnp.logical_or(dones[\"__all__\"], transition.reached_terminal)\n",
    "            return Transition(\n",
    "                current_timestep=transition.current_timestep + 1,\n",
    "                env_state=new_env_state,\n",
    "                reached_terminal=is_episode_end\n",
    "            ), None\n",
    "\n",
    "        initial_transition = Transition(\n",
    "            current_timestep=0,\n",
    "            env_state=initial_env_state,\n",
    "            reached_terminal=False,\n",
    "        )\n",
    "        return jax.lax.scan(_step, initial_transition, actions)\n",
    "\n",
    "    return play\n",
    "\n",
    "\n",
    "play_game_vjit = jax.vmap(make_play(train_loader.dataset.num_players), in_axes=0)\n",
    "for game_batch in train_loader:\n",
    "    batch_actions = game_batch.actions\n",
    "    batch_decks = game_batch.decks\n",
    "\n",
    "    play_game_keys = jax.random.split(jax.random.PRNGKey(0), game_batch.game_ids.size)\n",
    "    final_transition, _ = play_game_vjit(play_game_keys, batch_decks, batch_actions)"
   ],
   "id": "d5101c39bd69ff72",
   "outputs": [],
   "execution_count": null
  }
 ],
 "metadata": {
  "kernelspec": {
   "display_name": "Python 3",
   "language": "python",
   "name": "python3"
  },
  "language_info": {
   "codemirror_mode": {
    "name": "ipython",
    "version": 2
   },
   "file_extension": ".py",
   "mimetype": "text/x-python",
   "name": "python",
   "nbconvert_exporter": "python",
   "pygments_lexer": "ipython2",
   "version": "2.7.6"
  }
 },
 "nbformat": 4,
 "nbformat_minor": 5
}
